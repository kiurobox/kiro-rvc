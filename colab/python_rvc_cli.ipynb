{
  "cells": [
    {
      "cell_type": "markdown",
      "metadata": {
        "id": "view-in-github",
        "colab_type": "text"
      },
      "source": [
        "<a href=\"https://colab.research.google.com/github/kiurobox/python-rvc-cli/blob/main/colab/python_rvc_cli.ipynb\" target=\"_parent\"><img src=\"https://colab.research.google.com/assets/colab-badge.svg\" alt=\"Open In Colab\"/></a>"
      ]
    },
    {
      "cell_type": "markdown",
      "source": [
        "# 🚀 Python RVC Inference"
      ],
      "metadata": {
        "id": "gAoj8kSTKdty"
      }
    },
    {
      "cell_type": "code",
      "source": [
        "\n",
        "#@title Initialization\n",
        "\n",
        "from IPython.display import clear_output\n",
        "import torch\n",
        "import tensorflow as tf\n",
        "\n",
        "print(\"\\n\\033[1m=== Environment Verification ===\\033[0m\")\n",
        "print(f\"PyTorch Version: {torch.__version__}\")\n",
        "print(f\"TensorFlow Version: {tf.__version__}\")\n",
        "print(f\"CUDA Available: {torch.cuda.is_available()}\")\n",
        "print(f\"CUDA Version: {torch.version.cuda}\")\n",
        "print(f\"GPU Device: {torch.cuda.get_device_name(0)}\")\n",
        "\n",
        "\n",
        "\n",
        "print(\"\\n\\033[1m=== Initialization Complete ===\\033[0m\")\n",
        "print(\"You can now proceed with subsequent cells!\")"
      ],
      "metadata": {
        "cellView": "form",
        "id": "KIHaZrFSJ93c"
      },
      "execution_count": null,
      "outputs": []
    },
    {
      "cell_type": "markdown",
      "metadata": {
        "id": "ymMCTSD6m8qV"
      },
      "source": [
        "## Installation"
      ]
    },
    {
      "cell_type": "code",
      "execution_count": null,
      "metadata": {
        "cellView": "form",
        "id": "7GysECSxBya4"
      },
      "outputs": [],
      "source": [
        "# @title Clone\n",
        "\n",
        "\n",
        "\n",
        "\n",
        "\n",
        "url = \"https://github.com/kiurobox/python-rvc-cli.git\"\n",
        "\n",
        "\n",
        "!git clone $url\n",
        "clear_output()\n",
        "\n",
        "%cd /content/python-rvc-cli"
      ]
    },
    {
      "cell_type": "code",
      "execution_count": null,
      "metadata": {
        "cellView": "form",
        "id": "CAXW55BQm0PP"
      },
      "outputs": [],
      "source": [
        "# @title Install\n",
        "\n",
        "\n",
        "!pip install -r requirements.txt\n",
        "!pip uninstall torch torchvision torchaudio -y\n",
        "!pip install torch==2.3.1 torchvision==0.18.1 torchaudio==2.3.1 --upgrade --index-url https://download.pytorch.org/whl/cu121\n",
        "clear_output()\n",
        "print(\"Finished installing requirements!\")"
      ]
    },
    {
      "cell_type": "code",
      "execution_count": null,
      "metadata": {
        "cellView": "form",
        "id": "QlTibPnjmj6-"
      },
      "outputs": [],
      "source": [
        "# @title Download models\n",
        "\n",
        "from rvc.lib.tools.prerequisites_download import prerequisites_download_pipeline\n",
        "\n",
        "\n",
        "\n",
        "\n",
        "\n",
        "if __name__ == \"__main__\":\n",
        "    prerequisites_download_pipeline(models=True, exe=True)"
      ]
    },
    {
      "cell_type": "markdown",
      "metadata": {
        "id": "YzaeMYsUE97Y"
      },
      "source": [
        "## Infer"
      ]
    },
    {
      "cell_type": "code",
      "execution_count": null,
      "metadata": {
        "cellView": "form",
        "id": "v0EgikgjFCjE"
      },
      "outputs": [],
      "source": [
        "# @title Download model\n",
        "# @markdown Hugging Face or Google Drive\n",
        "model_link = \"https://huggingface.co/Bredvige/Sonic2/resolve/main/Sonic.zip\"  # @param {type:\"string\"}\n",
        "\n",
        "!python rvc_cli.py download --model_link \"{model_link}\""
      ]
    },
    {
      "cell_type": "code",
      "execution_count": null,
      "metadata": {
        "cellView": "form",
        "id": "lrCKEOzvDPRu"
      },
      "outputs": [],
      "source": [
        "# @title Run Inference\n",
        "\n",
        "import os\n",
        "\n",
        "current_dir = os.getcwd()\n",
        "\n",
        "model_name = \"Sonic\"  # @param {type:\"string\"}\n",
        "model_folder = os.path.join(current_dir, f\"logs/{model_name}\")\n",
        "\n",
        "if not os.path.exists(model_folder):\n",
        "    raise FileNotFoundError(f\"Model directory not found: {model_folder}\")\n",
        "\n",
        "files_in_folder = os.listdir(model_folder)\n",
        "pth_path = next((f for f in files_in_folder if f.endswith(\".pth\")), None)\n",
        "index_file = next((f for f in files_in_folder if f.endswith(\".index\")), None)\n",
        "\n",
        "if pth_path is None or index_file is None:\n",
        "    raise FileNotFoundError(\"No model found.\")\n",
        "\n",
        "pth_file = os.path.join(model_folder, pth_path)\n",
        "index_file = os.path.join(model_folder, index_file)\n",
        "\n",
        "input_path = \"/content/python-rvc-cli/assets/separated_audios/Infinite_(Vocals)_model_mel_band_roformer_ep_3005_sdr_11.wav\"  # @param {type:\"string\"}\n",
        "output_path = \"/content/output.wav\" # @param {type:\"string\"}\n",
        "export_format = \"WAV\"  # @param ['WAV', 'MP3', 'FLAC', 'OGG', 'M4A'] {allow-input: false}\n",
        "f0_method = \"hybrid[rmvpe+fcpe]\"  # @param [\"crepe\", \"crepe-tiny\", \"rmvpe\", \"fcpe\", \"hybrid[rmvpe+fcpe]\"] {allow-input: false}\n",
        "f0_up_key = 0  # @param {type:\"slider\", min:-24, max:24, step:0}\n",
        "filter_radius = 3  # @param {type:\"slider\", min:0, max:10, step:0}\n",
        "rms_mix_rate = 0.8  # @param {type:\"slider\", min:0.0, max:1.0, step:0.1}\n",
        "protect = 0.5  # @param {type:\"slider\", min:0.0, max:0.5, step:0.1}\n",
        "index_rate = 0.6  # @param {type:\"slider\", min:0.0, max:1.0, step:0.1}\n",
        "hop_length = 128  # @param {type:\"slider\", min:1, max:512, step:0}\n",
        "clean_strength = 0.7  # @param {type:\"slider\", min:0.0, max:1.0, step:0.1}\n",
        "split_audio = False  # @param{type:\"boolean\"}\n",
        "clean_audio = False  # @param{type:\"boolean\"}\n",
        "f0_autotune = False  # @param{type:\"boolean\"}\n",
        "formant_shift = False # @param{type:\"boolean\"}\n",
        "formant_qfrency = 1.0 # @param {type:\"slider\", min:1.0, max:16.0, step:0.1}\n",
        "formant_timbre = 1.0 # @param {type:\"slider\", min:1.0, max:16.0, step:0.1}\n",
        "embedder_model = \"contentvec\" # @param [\"contentvec\", \"chinese-hubert-base\", \"japanese-hubert-base\", \"korean-hubert-base\", \"custom\"] {allow-input: false}\n",
        "embedder_model_custom = \"\" # @param {type:\"string\"}\n",
        "\n",
        "\n",
        "# Post-processing effects\n",
        "if \"post_process\" not in globals():\n",
        "  post_process = False\n",
        "if \"reverb\" not in globals():\n",
        "  reverb = False\n",
        "if \"pitch_shift\" not in globals():\n",
        "  pitch_shift = False\n",
        "if \"limiter\" not in globals():\n",
        "  limiter = False\n",
        "if \"gain\" not in globals():\n",
        "  gain = False\n",
        "if \"distortion\" not in globals():\n",
        "  distortion = False\n",
        "if \"chorus\" not in globals():\n",
        "  chorus = False\n",
        "if \"bitcrush\" not in globals():\n",
        "  bitcrush = False\n",
        "if \"clipping\" not in globals():\n",
        "  clipping = False\n",
        "if \"compressor\" not in globals():\n",
        "  compressor = False\n",
        "if \"delay\" not in globals():\n",
        "  delay = False\n",
        "\n",
        "if \"reverb_room_size\" not in globals():\n",
        "  reverb_room_size = 0.5\n",
        "if \"reverb_damping\" not in globals():\n",
        "  reverb_damping = 0.5\n",
        "if \"reverb_wet_gain\" not in globals():\n",
        "  reverb_wet_gain = 0.0\n",
        "if \"reverb_dry_gain\" not in globals():\n",
        "  reverb_dry_gain = 0.0\n",
        "if \"reverb_width\" not in globals():\n",
        "  reverb_width = 1.0\n",
        "if \"reverb_freeze_mode\" not in globals():\n",
        "  reverb_freeze_mode = 0.0\n",
        "\n",
        "if \"pitch_shift_semitones\" not in globals():\n",
        "  pitch_shift_semitones = 0.0\n",
        "\n",
        "if \"limiter_threshold\" not in globals():\n",
        "  limiter_threshold = -1.0\n",
        "if \"limiter_release_time\" not in globals():\n",
        "  limiter_release_time = 0.05\n",
        "\n",
        "if \"gain_db\" not in globals():\n",
        "  gain_db = 0.0\n",
        "\n",
        "if \"distortion_gain\" not in globals():\n",
        "  distortion_gain = 0.0\n",
        "\n",
        "if \"chorus_rate\" not in globals():\n",
        "  chorus_rate = 1.5\n",
        "if \"chorus_depth\" not in globals():\n",
        "  chorus_depth = 0.1\n",
        "if \"chorus_center_delay\" not in globals():\n",
        "  chorus_center_delay = 15.0\n",
        "if \"chorus_feedback\" not in globals():\n",
        "  chorus_feedback = 0.25\n",
        "if \"chorus_mix\" not in globals():\n",
        "  chorus_mix = 0.5\n",
        "\n",
        "if \"bitcrush_bit_depth\" not in globals():\n",
        "  bitcrush_bit_depth = 4\n",
        "\n",
        "if \"clipping_threshold\" not in globals():\n",
        "  clipping_threshold = 0.5\n",
        "\n",
        "if \"compressor_threshold\" not in globals():\n",
        "  compressor_threshold = -20.0\n",
        "if \"compressor_ratio\" not in globals():\n",
        "  compressor_ratio = 4.0\n",
        "if \"compressor_attack\" not in globals():\n",
        "  compressor_attack = 0.001\n",
        "if \"compressor_release\" not in globals():\n",
        "  compressor_release = 0.1\n",
        "\n",
        "if \"delay_seconds\" not in globals():\n",
        "  delay_seconds = 0.1\n",
        "if \"delay_feedback\" not in globals():\n",
        "  delay_feedback = 0.5\n",
        "if \"delay_mix\" not in globals():\n",
        "  delay_mix = 0.5\n",
        "\n",
        "!python rvc_cli.py infer --pitch \"{f0_up_key}\" --filter_radius \"{filter_radius}\" --volume_envelope \"{rms_mix_rate}\" --index_rate \"{index_rate}\" --hop_length \"{hop_length}\" --protect \"{protect}\" --f0_autotune \"{f0_autotune}\" --f0_method \"{f0_method}\" --input_path \"{input_path}\" --output_path \"{output_path}\" --pth_path \"{pth_file}\" --index_path \"{index_file}\" --split_audio \"{split_audio}\" --clean_audio \"{clean_audio}\" --clean_strength \"{clean_strength}\" --export_format \"{export_format}\" --embedder_model \"{embedder_model}\" --embedder_model_custom \"{embedder_model_custom}\" --formant_shifting \"{formant_shift}\" --formant_qfrency \"{formant_qfrency}\" --formant_timbre \"{formant_timbre}\" --post_process \"{post_process}\" --reverb \"{reverb}\" --pitch_shift \"{pitch_shift}\" --limiter \"{limiter}\" --gain \"{gain}\" --distortion \"{distortion}\" --chorus \"{chorus}\" --bitcrush \"{bitcrush}\" --clipping \"{clipping}\" --compressor \"{compressor}\" --delay \"{delay}\" --reverb_room_size \"{reverb_room_size}\" --reverb_damping \"{reverb_damping}\" --reverb_wet_gain \"{reverb_wet_gain}\" --reverb_dry_gain \"{reverb_dry_gain}\" --reverb_width \"{reverb_width}\" --reverb_freeze_mode \"{reverb_freeze_mode}\" --pitch_shift_semitones \"{pitch_shift_semitones}\" --limiter_threshold \"{limiter_threshold}\" --limiter_release_time \"{limiter_release_time}\" --gain_db \"{gain_db}\" --distortion_gain \"{distortion_gain}\" --chorus_rate \"{chorus_rate}\" --chorus_depth \"{chorus_depth}\" --chorus_center_delay \"{chorus_center_delay}\" --chorus_feedback \"{chorus_feedback}\" --chorus_mix \"{chorus_mix}\" --bitcrush_bit_depth \"{bitcrush_bit_depth}\" --clipping_threshold \"{clipping_threshold}\" --compressor_threshold \"{compressor_threshold}\" --compressor_ratio \"{compressor_ratio}\" --compressor_attack \"{compressor_attack}\" --compressor_release \"{compressor_release}\" --delay_seconds \"{delay_seconds}\" --delay_feedback \"{delay_feedback}\" --delay_mix \"{delay_mix}\""
      ]
    },
    {
      "cell_type": "code",
      "source": [
        "#@title play ur audio output\n",
        "# shit ahh\n",
        "\n",
        "\n",
        "from IPython.display import Audio, display, clear_output\n",
        "\n",
        "\n",
        "display(Audio(output_path, autoplay=True))"
      ],
      "metadata": {
        "cellView": "form",
        "id": "Jj7gYPZHFSN-"
      },
      "execution_count": null,
      "outputs": []
    },
    {
      "cell_type": "markdown",
      "metadata": {
        "id": "yrWw2h9d2TRn"
      },
      "source": [
        "### **Advanced Settings**"
      ]
    },
    {
      "cell_type": "code",
      "execution_count": null,
      "metadata": {
        "cellView": "form",
        "id": "J43qejJ-2Tpp"
      },
      "outputs": [],
      "source": [
        "# @title # Post-processing effects\n",
        "post_process = False # @param{type:\"boolean\"}\n",
        "reverb = False # @param{type:\"boolean\"}\n",
        "pitch_shift = False # @param{type:\"boolean\"}\n",
        "limiter = False # @param{type:\"boolean\"}\n",
        "gain = False # @param{type:\"boolean\"}\n",
        "distortion = False # @param{type:\"boolean\"}\n",
        "chorus = False # @param{type:\"boolean\"}\n",
        "bitcrush = False # @param{type:\"boolean\"}\n",
        "clipping = False # @param{type:\"boolean\"}\n",
        "compressor = False # @param{type:\"boolean\"}\n",
        "delay = False # @param{type:\"boolean\"}\n",
        "\n",
        "reverb_room_size = 0.5 # @param {type:\"slider\", min:0.0, max:1.0, step:0.1}\n",
        "reverb_damping = 0.5 # @param {type:\"slider\", min:0.0, max:1.0, step:0.1}\n",
        "reverb_wet_gain = 0.0 # @param {type:\"slider\", min:-20.0, max:20.0, step:0.1}\n",
        "reverb_dry_gain = 0.0 # @param {type:\"slider\", min:-20.0, max:20.0, step:0.1}\n",
        "reverb_width = 1.0 # @param {type:\"slider\", min:0.0, max:1.0, step:0.1}\n",
        "reverb_freeze_mode = 0.0 # @param {type:\"slider\", min:0.0, max:1.0, step:0.1}\n",
        "\n",
        "pitch_shift_semitones = 0.0 # @param {type:\"slider\", min:-12.0, max:12.0, step:0.1}\n",
        "\n",
        "limiter_threshold = -1.0 # @param {type:\"slider\", min:-20.0, max:0.0, step:0.1}\n",
        "limiter_release_time = 0.05 # @param {type:\"slider\", min:0.0, max:1.0, step:0.01}\n",
        "\n",
        "gain_db = 0.0 # @param {type:\"slider\", min:-20.0, max:20.0, step:0.1}\n",
        "\n",
        "distortion_gain = 0.0 # @param {type:\"slider\", min:0.0, max:1.0, step:0.1}\n",
        "\n",
        "chorus_rate = 1.5 # @param {type:\"slider\", min:0.1, max:10.0, step:0.1}\n",
        "chorus_depth = 0.1 # @param {type:\"slider\", min:0.0, max:1.0, step:0.1}\n",
        "chorus_center_delay = 15.0 # @param {type:\"slider\", min:0.0, max:50.0, step:0.1}\n",
        "chorus_feedback = 0.25 # @param {type:\"slider\", min:0.0, max:1.0, step:0.1}\n",
        "chorus_mix = 0.5 # @param {type:\"slider\", min:0.0, max:1.0, step:0.1}\n",
        "\n",
        "bitcrush_bit_depth = 4 # @param {type:\"slider\", min:1, max:16, step:1}\n",
        "\n",
        "clipping_threshold = 0.5 # @param {type:\"slider\", min:0.0, max:1.0, step:0.1}\n",
        "\n",
        "compressor_threshold = -20.0 # @param {type:\"slider\", min:-60.0, max:0.0, step:0.1}\n",
        "compressor_ratio = 4.0 # @param {type:\"slider\", min:1.0, max:20.0, step:0.1}\n",
        "compressor_attack = 0.001 # @param {type:\"slider\", min:0.0, max:0.1, step:0.001}\n",
        "compressor_release = 0.1 # @param {type:\"slider\", min:0.0, max:1.0, step:0.01}\n",
        "\n",
        "delay_seconds = 0.1 # @param {type:\"slider\", min:0.0, max:1.0, step:0.01}\n",
        "delay_feedback = 0.5 # @param {type:\"slider\", min:0.0, max:1.0, step:0.1}\n",
        "delay_mix = 0.5 # @param {type:\"slider\", min:0.0, max:1.0, step:0.1}"
      ]
    },
    {
      "cell_type": "markdown",
      "source": [
        "## UVR"
      ],
      "metadata": {
        "id": "L6WIX1VbC6SQ"
      }
    },
    {
      "cell_type": "code",
      "source": [
        "#@title wav downloader for separator\n",
        "\n",
        "\n",
        "\n",
        "\n",
        "\n",
        "url_input = \"https://youtu.be/Ki_Nn95hj48?si=VDi2DcF5xkad9Nse\"  #@param {type:\"string\"}\n",
        "#@markdown **NOTE:** output will saved on `/content/python-rvc-cli/assets/yt-dlp/`\n",
        "\n",
        "\n",
        "\n",
        "output_dir = \"/content/python-rvc-cli/assets/yt-dlp\"\n",
        "\n",
        "\n",
        "!python download_audio.py $url_input --output $output_dir"
      ],
      "metadata": {
        "cellView": "form",
        "id": "aBOnlJ9xDIKq"
      },
      "execution_count": null,
      "outputs": []
    },
    {
      "cell_type": "code",
      "source": [
        "#@title audio separator\n",
        "\n",
        "\n",
        "audio_file = \"/content/python-rvc-cli/assets/yt-dlp/Infinite.wav\"  #@param {type:\"string\"}\n",
        "\n",
        "\n",
        "#@markdown **NOTE:** output will saved on `/content/python-rvc-cli/assets/separated_audios/`\n",
        "output_dir = \"/content/python-rvc-cli/assets/separated_audios/\"\n",
        "\n",
        "!python uvr_cli.py --audio_file $audio_file --output_dir $output_dir"
      ],
      "metadata": {
        "cellView": "form",
        "id": "Aws0PllIC9JM"
      },
      "execution_count": null,
      "outputs": []
    }
  ],
  "metadata": {
    "accelerator": "GPU",
    "colab": {
      "collapsed_sections": [
        "yrWw2h9d2TRn",
        "L6WIX1VbC6SQ"
      ],
      "provenance": [],
      "include_colab_link": true
    },
    "kernelspec": {
      "display_name": "Python 3",
      "name": "python3"
    },
    "language_info": {
      "name": "python"
    }
  },
  "nbformat": 4,
  "nbformat_minor": 0
}